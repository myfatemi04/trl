{
 "cells": [
  {
   "cell_type": "markdown",
   "metadata": {},
   "source": [
    "# Tune GPT2 to generate controlled sentiment reviews\n",
    "> Optimise GPT2 to produce IMDB movie reviews with controlled sentiment using a BERT sentiment classifier for rewards."
   ]
  },
  {
   "cell_type": "markdown",
   "metadata": {},
   "source": [
    "> warning: This notebook uses version `trl==0.0.3`."
   ]
  },
  {
   "cell_type": "markdown",
   "metadata": {},
   "source": [
    "<div style=\"text-align: center\">\n",
    "<img src='https://huggingface.co/datasets/trl-internal-testing/example-images/resolve/main/images/gpt2-ctrl-training-setup.png' width='600'>\n",
    "<p style=\"text-align: center;\"> <b>Figure:</b> Experiment setup to tune GPT2. The yellow arrows are outside the scope of this notebook, but the trained models are available through Hugging Face. </p>\n",
    "</div>\n",
    "\n",
    "\n",
    "The experiment setup is very similar to the positive sentiment notebook. However, in this notebook we fine-tune GPT2 (small) to generate **controlled** movie reviews based on the IMDB dataset. The model gets the target sentiment and 5 tokens from a real review and is tasked to produce continuations with the targeted sentiment. The reward for the continuations is calculated with the logits of a BERT sentiment classifier. That reward is then used for PPO training."
   ]
  },
  {
   "cell_type": "markdown",
   "metadata": {},
   "source": [
    "## Setup experiment"
   ]
  },
  {
   "cell_type": "markdown",
   "metadata": {},
   "source": [
    "### Import dependencies"
   ]
  },
  {
   "cell_type": "code",
   "execution_count": 3,
   "metadata": {},
   "outputs": [],
   "source": [
    "%load_ext autoreload\n",
    "%autoreload 2"
   ]
  },
  {
   "cell_type": "code",
   "execution_count": 32,
   "metadata": {},
   "outputs": [],
   "source": [
    "import torch\n",
    "import wandb\n",
    "import time\n",
    "import os\n",
    "from tqdm import tqdm\n",
    "import numpy as np\n",
    "import pandas as pd\n",
    "from random import choices\n",
    "import matplotlib.pyplot as plt\n",
    "tqdm.pandas()\n",
    "\n",
    "from datasets import load_dataset\n",
    "\n",
    "from transformers import GPT2Tokenizer\n",
    "from transformers import AutoModelForSequenceClassification, AutoTokenizer\n",
    "\n",
    "from trl.models import AutoModelForCausalLMWithValueHead\n",
    "from trl.trainer import PPOTrainer, PPOConfig\n",
    "from trl.core import build_bert_batch_from_txt, respond_to_batch"
   ]
  },
  {
   "cell_type": "markdown",
   "metadata": {},
   "source": [
    "### Configuration"
   ]
  },
  {
   "cell_type": "code",
   "execution_count": 8,
   "metadata": {},
   "outputs": [],
   "source": [
    "config = {\n",
    "    \"lm_name\": \"lvwerra/gpt2-imdb\",\n",
    "    \"ref_lm_name\": \"lvwerra/gpt2-imdb\",\n",
    "    \"cls_model_name\": \"lvwerra/distilbert-imdb\",\n",
    "    \"tk_name\": \"gpt2\",\n",
    "    \"steps\": 51200,\n",
    "    \"batch_size\": 256,\n",
    "    \"forward_batch_size\": 16,\n",
    "    \"ppo_epochs\": 4,   \n",
    "    \"txt_in_len\": 5,\n",
    "    \"txt_out_len\": 20,\n",
    "    \"lr\": 1.41e-5,\n",
    "    \"init_kl_coef\":0.2,\n",
    "    \"target\": 6,\n",
    "    \"horizon\":10000,\n",
    "    \"gamma\":1,\n",
    "    \"lam\":0.95,\n",
    "    \"cliprange\": .2,\n",
    "    \"cliprange_value\":.2,\n",
    "    \"vf_coef\":.1, \n",
    "    \"seed\": 1,\n",
    "}"
   ]
  },
  {
   "cell_type": "code",
   "execution_count": 9,
   "metadata": {},
   "outputs": [],
   "source": [
    "np.random.seed(config['seed'])"
   ]
  },
  {
   "cell_type": "markdown",
   "metadata": {},
   "source": [
    "You can see that we load a GPT2 model called `gpt2_imdb`. This model was additionally fine-tuned on the IMDB dataset for 1 epoch with the huggingface [script](https://github.com/huggingface/transformers/blob/master/examples/run_language_modeling.py) (no special settings). The other parameters are mostly taken from the original paper [\"Fine-Tuning Language Models from Human Preferences\"](\n",
    "https://arxiv.org/pdf/1909.08593.pdf). This model as well as the BERT model is available in the Huggingface model zoo [here](https://huggingface.co/models). The following code should automatically download the models."
   ]
  },
  {
   "cell_type": "markdown",
   "metadata": {},
   "source": [
    "### Initialize W&B logger\n",
    "We use `wandb`to log all the metrics during training."
   ]
  },
  {
   "cell_type": "code",
   "execution_count": 10,
   "metadata": {},
   "outputs": [
    {
     "name": "stderr",
     "output_type": "stream",
     "text": [
      "\u001b[34m\u001b[1mwandb\u001b[0m: Currently logged in as: \u001b[33mmyfatemi\u001b[0m. Use \u001b[1m`wandb login --relogin`\u001b[0m to force relogin\n"
     ]
    },
    {
     "data": {
      "text/html": [
       "Tracking run with wandb version 0.13.7"
      ],
      "text/plain": [
       "<IPython.core.display.HTML object>"
      ]
     },
     "metadata": {},
     "output_type": "display_data"
    },
    {
     "data": {
      "text/html": [
       "Run data is saved locally in <code>/workspace/trl/examples/notebooks/wandb/run-20230106_175145-3pl5a7qh</code>"
      ],
      "text/plain": [
       "<IPython.core.display.HTML object>"
      ]
     },
     "metadata": {},
     "output_type": "display_data"
    },
    {
     "data": {
      "text/html": [
       "Syncing run <strong><a href=\"https://wandb.ai/myfatemi/gpt2-ctrl/runs/3pl5a7qh\" target=\"_blank\">long-response</a></strong> to <a href=\"https://wandb.ai/myfatemi/gpt2-ctrl\" target=\"_blank\">Weights & Biases</a> (<a href=\"https://wandb.me/run\" target=\"_blank\">docs</a>)<br/>"
      ],
      "text/plain": [
       "<IPython.core.display.HTML object>"
      ]
     },
     "metadata": {},
     "output_type": "display_data"
    },
    {
     "data": {
      "text/html": [
       "<button onClick=\"this.nextSibling.style.display='block';this.style.display='none';\">Display W&B run</button><iframe src=\"https://wandb.ai/myfatemi/gpt2-ctrl/runs/3pl5a7qh?jupyter=true\" style=\"border:none;width:100%;height:420px;display:none;\"></iframe>"
      ],
      "text/plain": [
       "<wandb.sdk.wandb_run.Run at 0x7f058ad0cca0>"
      ]
     },
     "execution_count": 10,
     "metadata": {},
     "output_type": "execute_result"
    }
   ],
   "source": [
    "wandb.init(name='long-response', project='gpt2-ctrl', config=config)"
   ]
  },
  {
   "cell_type": "markdown",
   "metadata": {},
   "source": [
    "## Load data and models"
   ]
  },
  {
   "cell_type": "markdown",
   "metadata": {},
   "source": [
    "### Load IMDB dataset\n",
    "The IMDB dataset contains 50k movie review annotated with \"positive\"/\"negative\" feedback indicating the sentiment.  We load the IMDB dataset into a DataFrame and filter for comments that are at least 500 characters long and take the first 1000 characters of each comment. The first filter we apply to avoid comments that are less than `txt_in_len` token long and the second to avoid tokenizing way more text than we actually need."
   ]
  },
  {
   "cell_type": "code",
   "execution_count": 11,
   "metadata": {},
   "outputs": [
    {
     "name": "stderr",
     "output_type": "stream",
     "text": [
      "Found cached dataset imdb (/root/.cache/huggingface/datasets/imdb/plain_text/1.0.0/2fdd8b9bcadd6e7055e742a706876ba43f19faee861df134affd7a3f60fc38a1)\n"
     ]
    },
    {
     "data": {
      "text/html": [
       "<div>\n",
       "<style scoped>\n",
       "    .dataframe tbody tr th:only-of-type {\n",
       "        vertical-align: middle;\n",
       "    }\n",
       "\n",
       "    .dataframe tbody tr th {\n",
       "        vertical-align: top;\n",
       "    }\n",
       "\n",
       "    .dataframe thead th {\n",
       "        text-align: right;\n",
       "    }\n",
       "</style>\n",
       "<table border=\"1\" class=\"dataframe\">\n",
       "  <thead>\n",
       "    <tr style=\"text-align: right;\">\n",
       "      <th></th>\n",
       "      <th>review</th>\n",
       "      <th>sentiment</th>\n",
       "    </tr>\n",
       "  </thead>\n",
       "  <tbody>\n",
       "    <tr>\n",
       "      <th>0</th>\n",
       "      <td>I rented I AM CURIOUS-YELLOW from my video sto...</td>\n",
       "      <td>0</td>\n",
       "    </tr>\n",
       "    <tr>\n",
       "      <th>1</th>\n",
       "      <td>\"I Am Curious: Yellow\" is a risible and preten...</td>\n",
       "      <td>0</td>\n",
       "    </tr>\n",
       "    <tr>\n",
       "      <th>2</th>\n",
       "      <td>If only to avoid making this type of film in t...</td>\n",
       "      <td>0</td>\n",
       "    </tr>\n",
       "    <tr>\n",
       "      <th>3</th>\n",
       "      <td>This film was probably inspired by Godard's Ma...</td>\n",
       "      <td>0</td>\n",
       "    </tr>\n",
       "    <tr>\n",
       "      <th>4</th>\n",
       "      <td>Oh, brother...after hearing about this ridicul...</td>\n",
       "      <td>0</td>\n",
       "    </tr>\n",
       "  </tbody>\n",
       "</table>\n",
       "</div>"
      ],
      "text/plain": [
       "                                              review  sentiment\n",
       "0  I rented I AM CURIOUS-YELLOW from my video sto...          0\n",
       "1  \"I Am Curious: Yellow\" is a risible and preten...          0\n",
       "2  If only to avoid making this type of film in t...          0\n",
       "3  This film was probably inspired by Godard's Ma...          0\n",
       "4  Oh, brother...after hearing about this ridicul...          0"
      ]
     },
     "execution_count": 11,
     "metadata": {},
     "output_type": "execute_result"
    }
   ],
   "source": [
    "# load imdb with datasets\n",
    "ds = load_dataset('imdb', split='train')\n",
    "ds = ds.rename_columns({'text': 'review', 'label': 'sentiment'})\n",
    "ds.set_format('pandas')\n",
    "df = ds[:]\n",
    "\n",
    "# make sure the comments are long enough\n",
    "df = df.loc[df['review'].str.len() > 500]\n",
    "\n",
    "# make sure comments are not too long\n",
    "df['review'] = df['review'].apply(lambda x: x[:1000])\n",
    "\n",
    "df.head()"
   ]
  },
  {
   "cell_type": "markdown",
   "metadata": {},
   "source": [
    "### Load BERT classifier\n",
    "We load a BERT classifier fine-tuned on the IMDB dataset."
   ]
  },
  {
   "cell_type": "code",
   "execution_count": 12,
   "metadata": {},
   "outputs": [],
   "source": [
    "sentiment_model = AutoModelForSequenceClassification.from_pretrained(config[\"cls_model_name\"])\n",
    "sentiment_tokenizer = AutoTokenizer.from_pretrained(config[\"cls_model_name\"])"
   ]
  },
  {
   "cell_type": "markdown",
   "metadata": {},
   "source": [
    "The model outputs are the logits for the negative and positive class. We will use the logits for positive class as a reward signal for the language model."
   ]
  },
  {
   "cell_type": "code",
   "execution_count": 13,
   "metadata": {},
   "outputs": [
    {
     "data": {
      "text/plain": [
       "SequenceClassifierOutput(loss=None, logits=tensor([[ 2.3350, -2.7266]], grad_fn=<AddmmBackward0>), hidden_states=None, attentions=None)"
      ]
     },
     "execution_count": 13,
     "metadata": {},
     "output_type": "execute_result"
    }
   ],
   "source": [
    "text = 'this movie was really bad!!'\n",
    "output = sentiment_model.forward(sentiment_tokenizer.encode(text, return_tensors=\"pt\"))\n",
    "output"
   ]
  },
  {
   "cell_type": "code",
   "execution_count": 14,
   "metadata": {},
   "outputs": [
    {
     "data": {
      "text/plain": [
       "SequenceClassifierOutput(loss=None, logits=tensor([[-2.2948,  2.5570]], grad_fn=<AddmmBackward0>), hidden_states=None, attentions=None)"
      ]
     },
     "execution_count": 14,
     "metadata": {},
     "output_type": "execute_result"
    }
   ],
   "source": [
    "text = 'this movie was really good!!'\n",
    "output = sentiment_model.forward(sentiment_tokenizer.encode(text, return_tensors=\"pt\"))\n",
    "output"
   ]
  },
  {
   "cell_type": "code",
   "execution_count": 15,
   "metadata": {},
   "outputs": [
    {
     "data": {
      "text/plain": [
       "SequenceClassifierOutput(loss=None, logits=tensor([[-0.7086,  0.8563]], grad_fn=<AddmmBackward0>), hidden_states=None, attentions=None)"
      ]
     },
     "execution_count": 15,
     "metadata": {},
     "output_type": "execute_result"
    }
   ],
   "source": [
    "text = 'this movie was a documentary'\n",
    "output = sentiment_model.forward(sentiment_tokenizer.encode(text, return_tensors=\"pt\"))\n",
    "output"
   ]
  },
  {
   "cell_type": "markdown",
   "metadata": {},
   "source": [
    "The resulting reward signal:"
   ]
  },
  {
   "cell_type": "code",
   "execution_count": 16,
   "metadata": {},
   "outputs": [
    {
     "data": {
      "text/plain": [
       "tensor(0.8563, grad_fn=<SelectBackward0>)"
      ]
     },
     "execution_count": 16,
     "metadata": {},
     "output_type": "execute_result"
    }
   ],
   "source": [
    "output[0][0, 1]"
   ]
  },
  {
   "cell_type": "markdown",
   "metadata": {},
   "source": [
    "### Load pre-trained GPT2 language models"
   ]
  },
  {
   "cell_type": "markdown",
   "metadata": {},
   "source": [
    "We load the GPT2 model with a value head and the tokenizer. We load the model twice; the first model is optimized while the second model serves as a reference to calculate the KL-divergence from the starting point. This serves as an additional reward signal in the PPO training to make sure the optimized model does not deviate too much from the original language model."
   ]
  },
  {
   "cell_type": "code",
   "execution_count": 18,
   "metadata": {},
   "outputs": [],
   "source": [
    "gpt2_model = AutoModelForCausalLMWithValueHead.from_pretrained(config['lm_name'])\n",
    "gpt2_model_ref = AutoModelForCausalLMWithValueHead.from_pretrained(config['ref_lm_name'])\n",
    "gpt2_tokenizer = GPT2Tokenizer.from_pretrained(config['tk_name'])"
   ]
  },
  {
   "cell_type": "markdown",
   "metadata": {},
   "source": [
    "### Move models to GPU"
   ]
  },
  {
   "cell_type": "markdown",
   "metadata": {},
   "source": [
    "If `cuda` is available move the computations to the GPU."
   ]
  },
  {
   "cell_type": "code",
   "execution_count": 19,
   "metadata": {},
   "outputs": [],
   "source": [
    "device = torch.device(\"cuda\" if torch.cuda.is_available() else \"cpu\")"
   ]
  },
  {
   "cell_type": "code",
   "execution_count": 20,
   "metadata": {},
   "outputs": [],
   "source": [
    "_ = gpt2_model.to(device)\n",
    "_ = sentiment_model.to(device)\n",
    "_ = gpt2_model_ref.to(device)"
   ]
  },
  {
   "cell_type": "markdown",
   "metadata": {},
   "source": [
    "### Watch model with wandb\n",
    "This wandb magic logs the gradients and weights of the model during training."
   ]
  },
  {
   "cell_type": "code",
   "execution_count": 21,
   "metadata": {},
   "outputs": [
    {
     "data": {
      "text/plain": [
       "[]"
      ]
     },
     "execution_count": 21,
     "metadata": {},
     "output_type": "execute_result"
    }
   ],
   "source": [
    "wandb.watch(gpt2_model, log='all')"
   ]
  },
  {
   "cell_type": "markdown",
   "metadata": {},
   "source": [
    "### Tokenize IMDB reviews"
   ]
  },
  {
   "cell_type": "markdown",
   "metadata": {},
   "source": [
    "We tokenize all IMDB in advance to avoid tokenizing twice. In the first step we encode the queries and slice the first `txt_in_len` tokens. In a second step we decode these tokens back to text for later display."
   ]
  },
  {
   "cell_type": "code",
   "execution_count": 22,
   "metadata": {},
   "outputs": [
    {
     "name": "stderr",
     "output_type": "stream",
     "text": [
      "100%|██████████| 22578/22578 [00:30<00:00, 740.57it/s]\n"
     ]
    }
   ],
   "source": [
    "df['tokens'] = df['review'].progress_apply(lambda x: gpt2_tokenizer.encode(' '+x, return_tensors=\"pt\").to(device)[0, :config['txt_in_len']])"
   ]
  },
  {
   "cell_type": "code",
   "execution_count": 23,
   "metadata": {},
   "outputs": [
    {
     "name": "stderr",
     "output_type": "stream",
     "text": [
      "100%|██████████| 22578/22578 [00:00<00:00, 32664.26it/s]\n"
     ]
    }
   ],
   "source": [
    "df['query'] = df['tokens'].progress_apply(lambda x: gpt2_tokenizer.decode(x))"
   ]
  },
  {
   "cell_type": "markdown",
   "metadata": {},
   "source": [
    "### Control token dict\n",
    "We will append the control token at the beginning of each query to signal the model what the target sentiment is. Each control sequence consists of three tokens:"
   ]
  },
  {
   "cell_type": "code",
   "execution_count": 24,
   "metadata": {},
   "outputs": [],
   "source": [
    "ctrl_str = ['[negative]', '[neutral]', '[positive]']\n",
    "\n",
    "ctrl_tokens = dict((s, gpt2_tokenizer.encode(s, return_tensors=\"pt\").squeeze().to(device)) for s in ctrl_str)"
   ]
  },
  {
   "cell_type": "code",
   "execution_count": 25,
   "metadata": {},
   "outputs": [
    {
     "data": {
      "text/plain": [
       "{'[negative]': tensor([   58, 31591,    60], device='cuda:0'),\n",
       " '[neutral]': tensor([   58, 29797,    60], device='cuda:0'),\n",
       " '[positive]': tensor([   58, 24561,    60], device='cuda:0')}"
      ]
     },
     "execution_count": 25,
     "metadata": {},
     "output_type": "execute_result"
    }
   ],
   "source": [
    "ctrl_tokens"
   ]
  },
  {
   "cell_type": "markdown",
   "metadata": {},
   "source": [
    "### Reward function"
   ]
  },
  {
   "cell_type": "code",
   "execution_count": 26,
   "metadata": {},
   "outputs": [],
   "source": [
    "def pos_logit_to_reward(logit, task):\n",
    "    \"\"\"\n",
    "    Take the positive sentiment logit and scale it for the task.\n",
    "        task [negative]: reward = -logit\n",
    "        task [neutral]: reward = -2*abs(logit)+4\n",
    "        task [positive]: reward = logit\n",
    "    \"\"\"\n",
    "    for i in range(len(logit)):\n",
    "        if task[i]=='[negative]':\n",
    "            logit[i] = -logit[i]\n",
    "        elif task[i]=='[neutral]':\n",
    "            logit[i] = -2*torch.abs(logit[i])+4\n",
    "        elif task[i]=='[positive]':\n",
    "            pass\n",
    "        else:\n",
    "            raise ValueError('task has to be in [0, 1, 2]!')\n",
    "    return logit"
   ]
  },
  {
   "cell_type": "markdown",
   "metadata": {},
   "source": [
    "The following examples show the rewards for the cases where the classifier logit is 4, -4 and 0 for the three targets `['negative]`, `['neutral]` and `['positive']`. The scaling is not perfect as it differs between neutral and the other two classes. This is something to further investigate in the future. Ideally, one would use the logit output for each class individually, but since there is no dedicated class for neutral this is a workaround."
   ]
  },
  {
   "cell_type": "code",
   "execution_count": 27,
   "metadata": {},
   "outputs": [
    {
     "name": "stdout",
     "output_type": "stream",
     "text": [
      "['[negative]', '[neutral]', '[positive]']\n"
     ]
    }
   ],
   "source": [
    "print(ctrl_str)"
   ]
  },
  {
   "cell_type": "code",
   "execution_count": 28,
   "metadata": {},
   "outputs": [
    {
     "data": {
      "text/plain": [
       "tensor([-4., -4.,  4.])"
      ]
     },
     "execution_count": 28,
     "metadata": {},
     "output_type": "execute_result"
    }
   ],
   "source": [
    "pos_logit_to_reward(torch.Tensor([4,4,4]), ctrl_str)"
   ]
  },
  {
   "cell_type": "code",
   "execution_count": 29,
   "metadata": {},
   "outputs": [
    {
     "data": {
      "text/plain": [
       "tensor([ 4., -4., -4.])"
      ]
     },
     "execution_count": 29,
     "metadata": {},
     "output_type": "execute_result"
    }
   ],
   "source": [
    "pos_logit_to_reward(torch.Tensor([-4,-4,-4]), ctrl_str)"
   ]
  },
  {
   "cell_type": "code",
   "execution_count": 30,
   "metadata": {},
   "outputs": [
    {
     "data": {
      "text/plain": [
       "tensor([-0., 4., 0.])"
      ]
     },
     "execution_count": 30,
     "metadata": {},
     "output_type": "execute_result"
    }
   ],
   "source": [
    "pos_logit_to_reward(torch.Tensor([0, 0, 0]), ctrl_str)"
   ]
  },
  {
   "cell_type": "markdown",
   "metadata": {},
   "source": [
    "## Optimize model"
   ]
  },
  {
   "cell_type": "markdown",
   "metadata": {},
   "source": [
    "**Steps**\n",
    "\n",
    "The training loop consists of the following steps:\n",
    "1. Get a batch of queries and create random controls\n",
    "2. Get the query responses from the policy\n",
    "3. Join query and responses and tokenize for BERT analysis\n",
    "4. Get sentiments for query/responses from BERT\n",
    "5. Optimize policy with PPO using the (query, response, reward) triplet\n",
    "6. Log all the training statistics\n",
    "\n",
    "**Forward batching**\n",
    "\n",
    "Since the models can be fairly big and we want to rollout large PPO batches this can lead to out-of-memory errors when doing the forward passes for text generation and sentiment analysis. We introduce the parameter `forward_batch_size` to split the forward passes into smaller batches. Although this hurts performance a little this is neglectible compared to the computations of the backward passes when optimizing the model. The same parameter is used in the `PPOTrainer` when doing forward passes. The `batch_size` should multiple of `forward_batch_size`.\n",
    "\n",
    "**Training time**\n",
    "\n",
    "This step takes **~2h** on a P6000 GPU with the above specified settings."
   ]
  },
  {
   "cell_type": "code",
   "execution_count": 33,
   "metadata": {},
   "outputs": [
    {
     "data": {
      "text/plain": [
       "{'lm_name': 'lvwerra/gpt2-imdb',\n",
       " 'ref_lm_name': 'lvwerra/gpt2-imdb',\n",
       " 'cls_model_name': 'lvwerra/distilbert-imdb',\n",
       " 'tk_name': 'gpt2',\n",
       " 'steps': 51200,\n",
       " 'batch_size': 256,\n",
       " 'forward_batch_size': 16,\n",
       " 'ppo_epochs': 4,\n",
       " 'txt_in_len': 5,\n",
       " 'txt_out_len': 20,\n",
       " 'lr': 1.41e-05,\n",
       " 'init_kl_coef': 0.2,\n",
       " 'target': 6,\n",
       " 'horizon': 10000,\n",
       " 'gamma': 1,\n",
       " 'lam': 0.95,\n",
       " 'cliprange': 0.2,\n",
       " 'cliprange_value': 0.2,\n",
       " 'vf_coef': 0.1,\n",
       " 'seed': 1}"
      ]
     },
     "execution_count": 33,
     "metadata": {},
     "output_type": "execute_result"
    }
   ],
   "source": [
    "config"
   ]
  },
  {
   "cell_type": "code",
   "execution_count": 35,
   "metadata": {},
   "outputs": [],
   "source": [
    "# Create PPO config\n",
    "config_ppo = PPOConfig(\n",
    "    model_name='lvwerra/gpt2-imdb',\n",
    "    steps=51200,\n",
    "    learning_rate=1.41e-05,\n",
    "    adap_kl_ctrl=True,\n",
    "    init_kl_coef=0.2,\n",
    "    horizon=10000,\n",
    "    gamma=1,\n",
    "    lam=0.95,\n",
    "    cliprange=0.2,\n",
    "    cliprange_value=0.2,\n",
    "    vf_coef=0.1,\n",
    "    batch_size=256,\n",
    "    forward_batch_size=16,\n",
    "    ppo_epochs=4,\n",
    "    remove_unused_columns=True,\n",
    "    log_with_wandb=True,\n",
    "    wandb_project='gpt2-ctrl'\n",
    ")"
   ]
  },
  {
   "cell_type": "code",
   "execution_count": 39,
   "metadata": {},
   "outputs": [
    {
     "data": {
      "text/plain": [
       "[tensor([8920,   77,  470, 2407, 1654], device='cuda:0'),\n",
       " tensor([11136,   717,  8793, 16117,   351], device='cuda:0'),\n",
       " tensor([  854,   441, 10185,   314,  1392], device='cuda:0'),\n",
       " tensor([1002,  428, 3807,  373, 3194], device='cuda:0'),\n",
       " tensor([9576, 1178,  523, 1444,  366], device='cuda:0'),\n",
       " tensor([ 314, 1183,  307, 5508,   13], device='cuda:0'),\n",
       " tensor([2644,  770, 2125,  470,  262], device='cuda:0'),\n",
       " tensor([4452,  670,   11, 2592,  287], device='cuda:0'),\n",
       " tensor([ 314, 6635, 4236,  326,  366], device='cuda:0'),\n",
       " tensor([45437,   338,  5542,    25,   383], device='cuda:0')]"
      ]
     },
     "execution_count": 39,
     "metadata": {},
     "output_type": "execute_result"
    }
   ],
   "source": [
    "df.sample(10)['tokens'].tolist()"
   ]
  },
  {
   "cell_type": "code",
   "execution_count": 45,
   "metadata": {},
   "outputs": [
    {
     "data": {
      "text/plain": [
       "157"
      ]
     },
     "execution_count": 45,
     "metadata": {},
     "output_type": "execute_result"
    }
   ],
   "source": [
    "import gc\n",
    "\n",
    "gc.collect()"
   ]
  },
  {
   "cell_type": "code",
   "execution_count": 46,
   "metadata": {},
   "outputs": [
    {
     "data": {
      "text/html": [
       "Finishing last run (ID:25cf3wcp) before initializing another..."
      ],
      "text/plain": [
       "<IPython.core.display.HTML object>"
      ]
     },
     "metadata": {},
     "output_type": "display_data"
    },
    {
     "data": {
      "text/html": [
       "Waiting for W&B process to finish... <strong style=\"color:green\">(success).</strong>"
      ],
      "text/plain": [
       "<IPython.core.display.HTML object>"
      ]
     },
     "metadata": {},
     "output_type": "display_data"
    },
    {
     "data": {
      "application/vnd.jupyter.widget-view+json": {
       "model_id": "9ace45dcf20b4801b7cec8c61d732e40",
       "version_major": 2,
       "version_minor": 0
      },
      "text/plain": [
       "VBox(children=(Label(value='0.003 MB of 0.003 MB uploaded (0.000 MB deduped)\\r'), FloatProgress(value=1.0, max…"
      ]
     },
     "metadata": {},
     "output_type": "display_data"
    },
    {
     "data": {
      "text/html": [
       "Synced <strong style=\"color:#cdcd00\">run-42</strong>: <a href=\"https://wandb.ai/myfatemi/gpt2-ctrl/runs/25cf3wcp\" target=\"_blank\">https://wandb.ai/myfatemi/gpt2-ctrl/runs/25cf3wcp</a><br/>Synced 6 W&B file(s), 0 media file(s), 0 artifact file(s) and 0 other file(s)"
      ],
      "text/plain": [
       "<IPython.core.display.HTML object>"
      ]
     },
     "metadata": {},
     "output_type": "display_data"
    },
    {
     "data": {
      "text/html": [
       "Find logs at: <code>./wandb/run-20230106_185556-25cf3wcp/logs</code>"
      ],
      "text/plain": [
       "<IPython.core.display.HTML object>"
      ]
     },
     "metadata": {},
     "output_type": "display_data"
    },
    {
     "data": {
      "text/html": [
       "Successfully finished last run (ID:25cf3wcp). Initializing new run:<br/>"
      ],
      "text/plain": [
       "<IPython.core.display.HTML object>"
      ]
     },
     "metadata": {},
     "output_type": "display_data"
    },
    {
     "data": {
      "application/vnd.jupyter.widget-view+json": {
       "model_id": "03b20ff7f173460082a8b7f3192c44b0",
       "version_major": 2,
       "version_minor": 0
      },
      "text/plain": [
       "VBox(children=(Label(value='Waiting for wandb.init()...\\r'), FloatProgress(value=0.016668307113771638, max=1.0…"
      ]
     },
     "metadata": {},
     "output_type": "display_data"
    },
    {
     "data": {
      "text/html": [
       "Tracking run with wandb version 0.13.7"
      ],
      "text/plain": [
       "<IPython.core.display.HTML object>"
      ]
     },
     "metadata": {},
     "output_type": "display_data"
    },
    {
     "data": {
      "text/html": [
       "Run data is saved locally in <code>/workspace/trl/examples/notebooks/wandb/run-20230106_194512-3qc1lgg4</code>"
      ],
      "text/plain": [
       "<IPython.core.display.HTML object>"
      ]
     },
     "metadata": {},
     "output_type": "display_data"
    },
    {
     "data": {
      "text/html": [
       "Syncing run <strong><a href=\"https://wandb.ai/myfatemi/gpt2-ctrl/runs/3qc1lgg4\" target=\"_blank\">run-42</a></strong> to <a href=\"https://wandb.ai/myfatemi/gpt2-ctrl\" target=\"_blank\">Weights & Biases</a> (<a href=\"https://wandb.me/run\" target=\"_blank\">docs</a>)<br/>"
      ],
      "text/plain": [
       "<IPython.core.display.HTML object>"
      ]
     },
     "metadata": {},
     "output_type": "display_data"
    },
    {
     "name": "stderr",
     "output_type": "stream",
     "text": [
      " 80%|████████  | 160/200 [3:19:50<49:55, 74.89s/it]  \u001b[34m\u001b[1mwandb\u001b[0m: \u001b[33mWARNING\u001b[0m A graphql request initiated by the public wandb API timed out (timeout=9 sec). Create a new API with an integer timeout larger than 9, e.g., `api = wandb.Api(timeout=19)` to increase the graphql timeout.\n",
      "100%|██████████| 200/200 [4:09:58<00:00, 74.99s/it]\n"
     ]
    }
   ],
   "source": [
    "ppo_trainer = PPOTrainer(config_ppo, gpt2_model, gpt2_model_ref, gpt2_tokenizer)\n",
    "fbs = config_ppo.forward_batch_size\n",
    "bs = config_ppo.batch_size\n",
    "\n",
    "batch_count = int(np.ceil(config_ppo.steps/config_ppo.batch_size))\n",
    "\n",
    "for epoch in tqdm(range(batch_count)):\n",
    "    torch.cuda.empty_cache()\n",
    "    logs = dict()\n",
    "    game_data = dict()\n",
    "    timing = dict()\n",
    "    t0 = time.time()\n",
    "    \n",
    "    #### get a batch from the dataset and annotate tasks.\n",
    "    #### these tasks are chosen randomly, and the reward\n",
    "    #### is calculated based on the strength of the match.\n",
    "    df_batch = df.sample(bs)\n",
    "    task_list = choices(ctrl_str, k=bs)\n",
    "    task_tensors = torch.stack([ctrl_tokens[t] for t in task_list])\n",
    "    query_list = df_batch['query'].tolist()\n",
    "    game_data['query'] = [t+q for t,q in zip(task_list, query_list)]\n",
    "    \n",
    "    query_tensors = torch.stack(df_batch['tokens'].tolist())\n",
    "    query_tensors = torch.cat((task_tensors, query_tensors), axis=1)\n",
    "    \n",
    "    #### get response from gpt2. these include the task\n",
    "    #### specifiers. GPT2's reward is how well the completion\n",
    "    #### matches with the desired task. The match with the desired\n",
    "    #### task is calculated with automated means (DistilBERT fine-tuned\n",
    "    #### on IMDb)\n",
    "    t = time.time()\n",
    "    response_tensors = torch.cat([\n",
    "        respond_to_batch(\n",
    "            gpt2_model,\n",
    "            query_tensors[i*fbs:(i+1)*fbs],\n",
    "            txt_len=config['txt_out_len']\n",
    "        )\n",
    "        for i in range(int(bs/fbs))\n",
    "    ])\n",
    "    game_data['response'] = [gpt2_tokenizer.decode(response_tensors[i, :]) for i in range(config['batch_size'])]\n",
    "    timing['time/get_response'] = time.time()-t\n",
    "\n",
    "    #### tokenize text for sentiment analysis\n",
    "    t = time.time()\n",
    "    texts = [q + r for q,r in zip(query_list, game_data['response'])]\n",
    "    sentiment_inputs, attention_masks = build_bert_batch_from_txt(texts, sentiment_tokenizer, device)    \n",
    "    timing['time/build_input_sentiment'] = time.time()-t\n",
    "\n",
    "    #### get sentiment score\n",
    "    t = time.time()\n",
    "    pos_logits = torch.cat([\n",
    "        sentiment_model.forward(\n",
    "            sentiment_inputs[i*fbs:(i+1)*fbs],\n",
    "            attention_masks[i*fbs:(i+1)*fbs]\n",
    "        )[0][:, 1].detach()\n",
    "        for i in range(int(bs/fbs))\n",
    "    ])\n",
    "    rewards = pos_logit_to_reward(pos_logits, task_list)\n",
    "    timing['time/get_sentiment_preds'] = time.time()-t\n",
    "\n",
    "    #### Run PPO training\n",
    "    #### Given some query tensors, response tensors, and rewards:\n",
    "    #### \n",
    "    t = time.time()\n",
    "    stats = ppo_trainer.step(list(query_tensors), list(response_tensors), list(rewards))\n",
    "    timing['time/optimization'] = time.time()-t\n",
    "     \n",
    "    #### Log everything\n",
    "    timing['time/epoch'] = time.time()-t0\n",
    "    table_rows = [list(r) for r in zip(game_data['query'], game_data['response'], rewards.cpu().tolist())]\n",
    "    logs.update({'game_log':wandb.Table(\n",
    "        columns=['query', 'response', 'reward'],\n",
    "        rows=table_rows)})\n",
    "    logs.update(timing)\n",
    "    logs.update(stats)\n",
    "    logs['env/reward_mean'] = torch.mean(rewards).cpu().numpy()\n",
    "    logs['env/reward_std'] = torch.std(rewards).cpu().numpy()\n",
    "    logs['env/reward_dist'] = rewards.cpu().numpy()\n",
    "    for ctrl_s in ctrl_str:\n",
    "        key = 'env/reward_'+ctrl_s.strip('[]')\n",
    "        logs[key] = np.mean([r for r, t in zip(logs['env/reward_dist'], task_list) if t==ctrl_s])\n",
    "    wandb.log(logs)"
   ]
  },
  {
   "cell_type": "markdown",
   "metadata": {},
   "source": [
    "### Training progress\n",
    "If you are tracking the training progress with Weights&Biases you should see a plot similar to the following:\n",
    "\n",
    "<div style=\"text-align: center\">\n",
    "<img src='https://huggingface.co/datasets/trl-internal-testing/example-images/resolve/main/images/gpt2-ctrl-training-stats.png' width='800'>\n",
    "<p style=\"text-align: center;\"> <b>Figure:</b> Reward mean and distribution evolution during training. </p>\n",
    "</div>\n",
    "\n",
    "One can observe how the model starts to generate more positive outputs after a few optimisation steps.\n",
    "\n",
    "> Note: Investigating the KL-divergence will probably show that at this point the model has not converged to the target KL-divergence, yet. To get there would require longer training or starting with a higher inital coefficient."
   ]
  },
  {
   "cell_type": "markdown",
   "metadata": {},
   "source": [
    "## Model inspection"
   ]
  },
  {
   "cell_type": "markdown",
   "metadata": {},
   "source": [
    "### Reward distribution\n",
    "First, we can have a look at the reward distribution. Both the negative and positive rewards are clearly shifted to high rewards. The neutral rewards, however, are still centered around zero. There are a few possible explanations for this. There could be a bug in the code and the way the neutral rewards are calculated. Another problem could be that sentence sometimes start with a strong sentiment and it is hard for the model shift the sentiment towards neutral."
   ]
  },
  {
   "cell_type": "code",
   "execution_count": 47,
   "metadata": {},
   "outputs": [
    {
     "data": {
      "image/png": "[encoded data removed]",
      "text/plain": [
       "<Figure size 640x480 with 1 Axes>"
      ]
     },
     "metadata": {},
     "output_type": "display_data"
    }
   ],
   "source": [
    "for ctrl_s in ctrl_str:\n",
    "    plt.hist([r for r, t in zip(logs['env/reward_dist'], task_list) if t==ctrl_s],\n",
    "             density=True,\n",
    "             alpha=0.5,\n",
    "             label=ctrl_s)\n",
    "plt.legend(loc='best')\n",
    "plt.title('reward distribution')\n",
    "plt.grid(True)\n",
    "plt.show()"
   ]
  },
  {
   "cell_type": "markdown",
   "metadata": {},
   "source": [
    "### Examples"
   ]
  },
  {
   "cell_type": "code",
   "execution_count": 48,
   "metadata": {},
   "outputs": [
    {
     "data": {
      "text/html": [
       "<div>\n",
       "<style scoped>\n",
       "    .dataframe tbody tr th:only-of-type {\n",
       "        vertical-align: middle;\n",
       "    }\n",
       "\n",
       "    .dataframe tbody tr th {\n",
       "        vertical-align: top;\n",
       "    }\n",
       "\n",
       "    .dataframe thead th {\n",
       "        text-align: right;\n",
       "    }\n",
       "</style>\n",
       "<table border=\"1\" class=\"dataframe\">\n",
       "  <thead>\n",
       "    <tr style=\"text-align: right;\">\n",
       "      <th></th>\n",
       "      <th>query</th>\n",
       "      <th>response [negative]</th>\n",
       "      <th>rewards [negative]</th>\n",
       "      <th>response [neutral]</th>\n",
       "      <th>rewards [neutral]</th>\n",
       "      <th>response [positive]</th>\n",
       "      <th>rewards [positive]</th>\n",
       "    </tr>\n",
       "  </thead>\n",
       "  <tbody>\n",
       "    <tr>\n",
       "      <th>0</th>\n",
       "      <td>A Classic Hollywood Biopic</td>\n",
       "      <td>. I couldn't believe I had actually seen the m...</td>\n",
       "      <td>-0.127471</td>\n",
       "      <td>is a little bit hoarded. The normal Hollywood...</td>\n",
       "      <td>3.943662</td>\n",
       "      <td>. If you like things todo, I don't have the se...</td>\n",
       "      <td>0.976845</td>\n",
       "    </tr>\n",
       "    <tr>\n",
       "      <th>1</th>\n",
       "      <td>I saw this film at</td>\n",
       "      <td>university. I was taken with little more than...</td>\n",
       "      <td>1.451300</td>\n",
       "      <td>the age of nine to make illustrations of the ...</td>\n",
       "      <td>3.736063</td>\n",
       "      <td>first, and I actually liked it. And to see an...</td>\n",
       "      <td>2.494144</td>\n",
       "    </tr>\n",
       "    <tr>\n",
       "      <th>2</th>\n",
       "      <td>this movie is awesome.</td>\n",
       "      <td>&lt;|endoftext|&gt; I'm surprised at how much people...</td>\n",
       "      <td>-2.593433</td>\n",
       "      <td>The acting is so good, the assembly is so stu...</td>\n",
       "      <td>0.303356</td>\n",
       "      <td>It's nice of the script. This is one of those...</td>\n",
       "      <td>2.697313</td>\n",
       "    </tr>\n",
       "    <tr>\n",
       "      <th>3</th>\n",
       "      <td>I'll give this movie</td>\n",
       "      <td>4 out of 10.&lt;|endoftext|&gt; This is very frustr...</td>\n",
       "      <td>2.612106</td>\n",
       "      <td>an 8. I think this is one of the best movies ...</td>\n",
       "      <td>-0.810928</td>\n",
       "      <td>4 because it is a masterpiece. This is one of...</td>\n",
       "      <td>2.810789</td>\n",
       "    </tr>\n",
       "    <tr>\n",
       "      <th>4</th>\n",
       "      <td>When robot hordes start attacking</td>\n",
       "      <td>mankind, you get scared because they have the...</td>\n",
       "      <td>0.752720</td>\n",
       "      <td>you. The best thing you can do is be sure to ...</td>\n",
       "      <td>2.600171</td>\n",
       "      <td>humans, only they don´t because of a bizarre ...</td>\n",
       "      <td>-0.993947</td>\n",
       "    </tr>\n",
       "    <tr>\n",
       "      <th>5</th>\n",
       "      <td>I disagree strongly with anyone</td>\n",
       "      <td>who believes this film is fundamentally bad. ...</td>\n",
       "      <td>2.410846</td>\n",
       "      <td>who believes thatya can express legally immac...</td>\n",
       "      <td>1.299608</td>\n",
       "      <td>who can read the book, and I understand the p...</td>\n",
       "      <td>0.985047</td>\n",
       "    </tr>\n",
       "    <tr>\n",
       "      <th>6</th>\n",
       "      <td>I saw this film about</td>\n",
       "      <td>2 years ago when I first saw it, and I had to...</td>\n",
       "      <td>-1.267393</td>\n",
       "      <td>the Friday the 13th,, today he gets it wrong....</td>\n",
       "      <td>2.987020</td>\n",
       "      <td>20 years ago, but it's a page lot more. The D...</td>\n",
       "      <td>1.653561</td>\n",
       "    </tr>\n",
       "    <tr>\n",
       "      <th>7</th>\n",
       "      <td>The story is extremely unique</td>\n",
       "      <td>but I'm afraid I had all my nerve as a larval...</td>\n",
       "      <td>-0.410321</td>\n",
       "      <td>, and an concept is fitting. Government and th...</td>\n",
       "      <td>-1.267241</td>\n",
       "      <td>and the direction is perfect. The songs are t...</td>\n",
       "      <td>2.790290</td>\n",
       "    </tr>\n",
       "    <tr>\n",
       "      <th>8</th>\n",
       "      <td>I'm not a huge</td>\n",
       "      <td>fan objectors, here at least was totally igno...</td>\n",
       "      <td>1.295485</td>\n",
       "      <td>fan of theGame. The arcade games are bad.2&lt;|e...</td>\n",
       "      <td>0.029579</td>\n",
       "      <td>fan of Ann either, but I did not like it. I t...</td>\n",
       "      <td>0.278986</td>\n",
       "    </tr>\n",
       "    <tr>\n",
       "      <th>9</th>\n",
       "      <td>The Secret of Kells</td>\n",
       "      <td>of Woolhop's bankruptcy and before him left f...</td>\n",
       "      <td>-0.078557</td>\n",
       "      <td>has been revealed in the order of this film, ...</td>\n",
       "      <td>3.301053</td>\n",
       "      <td>\" is giving a replay of the regular run-of-the...</td>\n",
       "      <td>2.713490</td>\n",
       "    </tr>\n",
       "    <tr>\n",
       "      <th>10</th>\n",
       "      <td>Sammo Hung's 1989</td>\n",
       "      <td>film \"Bring Down\" is a great polaroid at the ...</td>\n",
       "      <td>-1.668166</td>\n",
       "      <td>presidential election run from Mark McGaviny....</td>\n",
       "      <td>1.427923</td>\n",
       "      <td>production of Nekropolis. The choreography is...</td>\n",
       "      <td>1.622774</td>\n",
       "    </tr>\n",
       "    <tr>\n",
       "      <th>11</th>\n",
       "      <td>They changed the title of</td>\n",
       "      <td>dressing to awkward. I'm not salty by any pru...</td>\n",
       "      <td>-0.268512</td>\n",
       "      <td>villari, till it became one of theと income an...</td>\n",
       "      <td>2.919087</td>\n",
       "      <td>the film...and they had to. I know that in my...</td>\n",
       "      <td>1.046034</td>\n",
       "    </tr>\n",
       "    <tr>\n",
       "      <th>12</th>\n",
       "      <td>I went to see this</td>\n",
       "      <td>stuff before and the movie came out 123 days ...</td>\n",
       "      <td>0.794509</td>\n",
       "      <td>movie. I watched it with no guarantees. And I...</td>\n",
       "      <td>0.970133</td>\n",
       "      <td>one, and thought it was the best movie I have...</td>\n",
       "      <td>2.519467</td>\n",
       "    </tr>\n",
       "    <tr>\n",
       "      <th>13</th>\n",
       "      <td>This is a movie about</td>\n",
       "      <td>someone who is scared after having messed up....</td>\n",
       "      <td>2.427030</td>\n",
       "      <td>what happens to a man who lives here; he can ...</td>\n",
       "      <td>0.502410</td>\n",
       "      <td>journalism and politics, and being Here. It's...</td>\n",
       "      <td>2.595996</td>\n",
       "    </tr>\n",
       "    <tr>\n",
       "      <th>14</th>\n",
       "      <td>I've read all the</td>\n",
       "      <td>reviews on this movie and it is very disappoi...</td>\n",
       "      <td>2.568488</td>\n",
       "      <td>articles about this and I thought it was a go...</td>\n",
       "      <td>-0.169011</td>\n",
       "      <td>reviews of this movie. I love it. I've seen a...</td>\n",
       "      <td>2.629524</td>\n",
       "    </tr>\n",
       "    <tr>\n",
       "      <th>15</th>\n",
       "      <td>I was so disturbed by</td>\n",
       "      <td>it that I decided to suspend it and maybe for...</td>\n",
       "      <td>1.214562</td>\n",
       "      <td>this movie, starting the movie and, because i...</td>\n",
       "      <td>0.424534</td>\n",
       "      <td>it, I wanted to come out and get my own girlf...</td>\n",
       "      <td>-0.238042</td>\n",
       "    </tr>\n",
       "    <tr>\n",
       "      <th>16</th>\n",
       "      <td>As a child the first</td>\n",
       "      <td>day of christian christian christian christia...</td>\n",
       "      <td>0.766447</td>\n",
       "      <td>male took over . He taught all the girls tha...</td>\n",
       "      <td>0.877148</td>\n",
       "      <td>even suspected the outside story. The first t...</td>\n",
       "      <td>1.728954</td>\n",
       "    </tr>\n",
       "    <tr>\n",
       "      <th>17</th>\n",
       "      <td>I saw this movie in</td>\n",
       "      <td>Virtual Reality, I legally agreed to be with ...</td>\n",
       "      <td>-0.841663</td>\n",
       "      <td>1980 and have tried to avoid it. However, I d...</td>\n",
       "      <td>3.647241</td>\n",
       "      <td>the theaters a few years ago, and I loved it....</td>\n",
       "      <td>2.706404</td>\n",
       "    </tr>\n",
       "    <tr>\n",
       "      <th>18</th>\n",
       "      <td>The script is nice.</td>\n",
       "      <td>Brexit? There is great brevity and everything...</td>\n",
       "      <td>-2.023473</td>\n",
       "      <td>But it's not what you need to believe...........</td>\n",
       "      <td>0.857964</td>\n",
       "      <td>It's my favorite movie, you know what I am sa...</td>\n",
       "      <td>2.752837</td>\n",
       "    </tr>\n",
       "    <tr>\n",
       "      <th>19</th>\n",
       "      <td>First off, I'm</td>\n",
       "      <td>not sure it would be wise to take votes for a...</td>\n",
       "      <td>1.298196</td>\n",
       "      <td>no News Agency, so if that's what you are on,...</td>\n",
       "      <td>2.439147</td>\n",
       "      <td>not supposed to love what we do. I have a res...</td>\n",
       "      <td>0.814537</td>\n",
       "    </tr>\n",
       "    <tr>\n",
       "      <th>20</th>\n",
       "      <td>I could never remember the</td>\n",
       "      <td>term. I was just horrible. The only thing tha...</td>\n",
       "      <td>2.947355</td>\n",
       "      <td>two animators that control this movie, and of...</td>\n",
       "      <td>0.814948</td>\n",
       "      <td>most interesting thing about that...ah, see, ...</td>\n",
       "      <td>-0.695874</td>\n",
       "    </tr>\n",
       "    <tr>\n",
       "      <th>21</th>\n",
       "      <td>Recap: Doctor Markov</td>\n",
       "      <td>has been on this place since about 2008. He p...</td>\n",
       "      <td>-0.463540</td>\n",
       "      <td>and Luke are calling a car and has to go get ...</td>\n",
       "      <td>3.009733</td>\n",
       "      <td>happens to be unexpected when he discovers a ...</td>\n",
       "      <td>1.165206</td>\n",
       "    </tr>\n",
       "    <tr>\n",
       "      <th>22</th>\n",
       "      <td>This is a very rare</td>\n",
       "      <td>thing I have ever heard about! So, I had no i...</td>\n",
       "      <td>-1.673910</td>\n",
       "      <td>OSI film, with also two sequels. When Nikko K...</td>\n",
       "      <td>0.223206</td>\n",
       "      <td>movie. The characters are so unexpected and s...</td>\n",
       "      <td>2.475785</td>\n",
       "    </tr>\n",
       "    <tr>\n",
       "      <th>23</th>\n",
       "      <td>I tried to remove anything</td>\n",
       "      <td>that would ruin the film and I didn't like it...</td>\n",
       "      <td>2.824244</td>\n",
       "      <td>that happened to me, but I found out later on...</td>\n",
       "      <td>1.912564</td>\n",
       "      <td>that was written on my back, and the endless ...</td>\n",
       "      <td>-2.285363</td>\n",
       "    </tr>\n",
       "    <tr>\n",
       "      <th>24</th>\n",
       "      <td>A very engaging documentary about</td>\n",
       "      <td>every character on the HR.&lt;|endoftext|&gt; I hav...</td>\n",
       "      <td>-2.491029</td>\n",
       "      <td>how the bitcoin questions arise, and how infl...</td>\n",
       "      <td>-1.474063</td>\n",
       "      <td>troops, politics, and religion. I've always b...</td>\n",
       "      <td>2.570970</td>\n",
       "    </tr>\n",
       "    <tr>\n",
       "      <th>25</th>\n",
       "      <td>Having just finished Cronicles</td>\n",
       "      <td>, I wondered if it was okay.&lt;|endoftext|&gt; This...</td>\n",
       "      <td>2.839148</td>\n",
       "      <td>, I decided to go join him out on the street, ...</td>\n",
       "      <td>3.349780</td>\n",
       "      <td>, I relate to this movie. I liked it so much t...</td>\n",
       "      <td>2.501301</td>\n",
       "    </tr>\n",
       "    <tr>\n",
       "      <th>26</th>\n",
       "      <td>An interesting animation about the</td>\n",
       "      <td>situational psychology of managerial losses a...</td>\n",
       "      <td>1.222052</td>\n",
       "      <td>director trying to do his job in simpler but ...</td>\n",
       "      <td>2.884769</td>\n",
       "      <td>importance of the ISIS and HTTP. It's a crazy...</td>\n",
       "      <td>1.921735</td>\n",
       "    </tr>\n",
       "    <tr>\n",
       "      <th>27</th>\n",
       "      <td>Though I can't claim</td>\n",
       "      <td>to understand why a person would turn to such...</td>\n",
       "      <td>0.765638</td>\n",
       "      <td>to be an investmentist, I do know that we don...</td>\n",
       "      <td>2.478764</td>\n",
       "      <td>that this film was graded a great movie, whic...</td>\n",
       "      <td>1.704393</td>\n",
       "    </tr>\n",
       "    <tr>\n",
       "      <th>28</th>\n",
       "      <td>I went to go see</td>\n",
       "      <td>boxing but it turned out to be so bad. I wasn...</td>\n",
       "      <td>2.736727</td>\n",
       "      <td>it for the first time, I didn't know how to g...</td>\n",
       "      <td>2.457790</td>\n",
       "      <td>this movie in nightclubs. I have to say that ...</td>\n",
       "      <td>1.027381</td>\n",
       "    </tr>\n",
       "    <tr>\n",
       "      <th>29</th>\n",
       "      <td>Man To Man tries hard</td>\n",
       "      <td>and is easy to Photo Journalies. He doesn't s...</td>\n",
       "      <td>0.732203</td>\n",
       "      <td>all year. However, God knows what Fetch. The ...</td>\n",
       "      <td>3.276086</td>\n",
       "      <td>to convince ms. This guy has a life there. I ...</td>\n",
       "      <td>-1.087284</td>\n",
       "    </tr>\n",
       "    <tr>\n",
       "      <th>30</th>\n",
       "      <td>I didn't expect much</td>\n",
       "      <td>from this film with a statement. It wasiharas...</td>\n",
       "      <td>0.749074</td>\n",
       "      <td>from this movie. If I were very young it woul...</td>\n",
       "      <td>-1.113047</td>\n",
       "      <td>, so I thought it was good. And it was very go...</td>\n",
       "      <td>2.696155</td>\n",
       "    </tr>\n",
       "    <tr>\n",
       "      <th>31</th>\n",
       "      <td>From actor and independent writer</td>\n",
       "      <td>, I didn't reach this level. I had to go from ...</td>\n",
       "      <td>2.452349</td>\n",
       "      <td>, Seth Greenwood, I can tell you not that he'd...</td>\n",
       "      <td>2.840394</td>\n",
       "      <td>-writer, Bunjin will find a speedy, impressive...</td>\n",
       "      <td>1.819275</td>\n",
       "    </tr>\n",
       "  </tbody>\n",
       "</table>\n",
       "</div>"
      ],
      "text/plain": [
       "                                  query  \\\n",
       "0            A Classic Hollywood Biopic   \n",
       "1                    I saw this film at   \n",
       "2                this movie is awesome.   \n",
       "3                  I'll give this movie   \n",
       "4     When robot hordes start attacking   \n",
       "5       I disagree strongly with anyone   \n",
       "6                 I saw this film about   \n",
       "7         The story is extremely unique   \n",
       "8                        I'm not a huge   \n",
       "9                   The Secret of Kells   \n",
       "10                    Sammo Hung's 1989   \n",
       "11            They changed the title of   \n",
       "12                   I went to see this   \n",
       "13                This is a movie about   \n",
       "14                    I've read all the   \n",
       "15                I was so disturbed by   \n",
       "16                 As a child the first   \n",
       "17                  I saw this movie in   \n",
       "18                  The script is nice.   \n",
       "19                       First off, I'm   \n",
       "20           I could never remember the   \n",
       "21                 Recap: Doctor Markov   \n",
       "22                  This is a very rare   \n",
       "23           I tried to remove anything   \n",
       "24    A very engaging documentary about   \n",
       "25       Having just finished Cronicles   \n",
       "26   An interesting animation about the   \n",
       "27                 Though I can't claim   \n",
       "28                     I went to go see   \n",
       "29                Man To Man tries hard   \n",
       "30                 I didn't expect much   \n",
       "31    From actor and independent writer   \n",
       "\n",
       "                                  response [negative]  rewards [negative]  \\\n",
       "0   . I couldn't believe I had actually seen the m...           -0.127471   \n",
       "1    university. I was taken with little more than...            1.451300   \n",
       "2   <|endoftext|> I'm surprised at how much people...           -2.593433   \n",
       "3    4 out of 10.<|endoftext|> This is very frustr...            2.612106   \n",
       "4    mankind, you get scared because they have the...            0.752720   \n",
       "5    who believes this film is fundamentally bad. ...            2.410846   \n",
       "6    2 years ago when I first saw it, and I had to...           -1.267393   \n",
       "7    but I'm afraid I had all my nerve as a larval...           -0.410321   \n",
       "8    fan objectors, here at least was totally igno...            1.295485   \n",
       "9    of Woolhop's bankruptcy and before him left f...           -0.078557   \n",
       "10   film \"Bring Down\" is a great polaroid at the ...           -1.668166   \n",
       "11   dressing to awkward. I'm not salty by any pru...           -0.268512   \n",
       "12   stuff before and the movie came out 123 days ...            0.794509   \n",
       "13   someone who is scared after having messed up....            2.427030   \n",
       "14   reviews on this movie and it is very disappoi...            2.568488   \n",
       "15   it that I decided to suspend it and maybe for...            1.214562   \n",
       "16   day of christian christian christian christia...            0.766447   \n",
       "17   Virtual Reality, I legally agreed to be with ...           -0.841663   \n",
       "18   Brexit? There is great brevity and everything...           -2.023473   \n",
       "19   not sure it would be wise to take votes for a...            1.298196   \n",
       "20   term. I was just horrible. The only thing tha...            2.947355   \n",
       "21   has been on this place since about 2008. He p...           -0.463540   \n",
       "22   thing I have ever heard about! So, I had no i...           -1.673910   \n",
       "23   that would ruin the film and I didn't like it...            2.824244   \n",
       "24   every character on the HR.<|endoftext|> I hav...           -2.491029   \n",
       "25  , I wondered if it was okay.<|endoftext|> This...            2.839148   \n",
       "26   situational psychology of managerial losses a...            1.222052   \n",
       "27   to understand why a person would turn to such...            0.765638   \n",
       "28   boxing but it turned out to be so bad. I wasn...            2.736727   \n",
       "29   and is easy to Photo Journalies. He doesn't s...            0.732203   \n",
       "30   from this film with a statement. It wasiharas...            0.749074   \n",
       "31  , I didn't reach this level. I had to go from ...            2.452349   \n",
       "\n",
       "                                   response [neutral]  rewards [neutral]  \\\n",
       "0    is a little bit hoarded. The normal Hollywood...           3.943662   \n",
       "1    the age of nine to make illustrations of the ...           3.736063   \n",
       "2    The acting is so good, the assembly is so stu...           0.303356   \n",
       "3    an 8. I think this is one of the best movies ...          -0.810928   \n",
       "4    you. The best thing you can do is be sure to ...           2.600171   \n",
       "5    who believes thatya can express legally immac...           1.299608   \n",
       "6    the Friday the 13th,, today he gets it wrong....           2.987020   \n",
       "7   , and an concept is fitting. Government and th...          -1.267241   \n",
       "8    fan of theGame. The arcade games are bad.2<|e...           0.029579   \n",
       "9    has been revealed in the order of this film, ...           3.301053   \n",
       "10   presidential election run from Mark McGaviny....           1.427923   \n",
       "11   villari, till it became one of theと income an...           2.919087   \n",
       "12   movie. I watched it with no guarantees. And I...           0.970133   \n",
       "13   what happens to a man who lives here; he can ...           0.502410   \n",
       "14   articles about this and I thought it was a go...          -0.169011   \n",
       "15   this movie, starting the movie and, because i...           0.424534   \n",
       "16   male took over . He taught all the girls tha...           0.877148   \n",
       "17   1980 and have tried to avoid it. However, I d...           3.647241   \n",
       "18   But it's not what you need to believe...........           0.857964   \n",
       "19   no News Agency, so if that's what you are on,...           2.439147   \n",
       "20   two animators that control this movie, and of...           0.814948   \n",
       "21   and Luke are calling a car and has to go get ...           3.009733   \n",
       "22   OSI film, with also two sequels. When Nikko K...           0.223206   \n",
       "23   that happened to me, but I found out later on...           1.912564   \n",
       "24   how the bitcoin questions arise, and how infl...          -1.474063   \n",
       "25  , I decided to go join him out on the street, ...           3.349780   \n",
       "26   director trying to do his job in simpler but ...           2.884769   \n",
       "27   to be an investmentist, I do know that we don...           2.478764   \n",
       "28   it for the first time, I didn't know how to g...           2.457790   \n",
       "29   all year. However, God knows what Fetch. The ...           3.276086   \n",
       "30   from this movie. If I were very young it woul...          -1.113047   \n",
       "31  , Seth Greenwood, I can tell you not that he'd...           2.840394   \n",
       "\n",
       "                                  response [positive]  rewards [positive]  \n",
       "0   . If you like things todo, I don't have the se...            0.976845  \n",
       "1    first, and I actually liked it. And to see an...            2.494144  \n",
       "2    It's nice of the script. This is one of those...            2.697313  \n",
       "3    4 because it is a masterpiece. This is one of...            2.810789  \n",
       "4    humans, only they don´t because of a bizarre ...           -0.993947  \n",
       "5    who can read the book, and I understand the p...            0.985047  \n",
       "6    20 years ago, but it's a page lot more. The D...            1.653561  \n",
       "7    and the direction is perfect. The songs are t...            2.790290  \n",
       "8    fan of Ann either, but I did not like it. I t...            0.278986  \n",
       "9   \" is giving a replay of the regular run-of-the...            2.713490  \n",
       "10   production of Nekropolis. The choreography is...            1.622774  \n",
       "11   the film...and they had to. I know that in my...            1.046034  \n",
       "12   one, and thought it was the best movie I have...            2.519467  \n",
       "13   journalism and politics, and being Here. It's...            2.595996  \n",
       "14   reviews of this movie. I love it. I've seen a...            2.629524  \n",
       "15   it, I wanted to come out and get my own girlf...           -0.238042  \n",
       "16   even suspected the outside story. The first t...            1.728954  \n",
       "17   the theaters a few years ago, and I loved it....            2.706404  \n",
       "18   It's my favorite movie, you know what I am sa...            2.752837  \n",
       "19   not supposed to love what we do. I have a res...            0.814537  \n",
       "20   most interesting thing about that...ah, see, ...           -0.695874  \n",
       "21   happens to be unexpected when he discovers a ...            1.165206  \n",
       "22   movie. The characters are so unexpected and s...            2.475785  \n",
       "23   that was written on my back, and the endless ...           -2.285363  \n",
       "24   troops, politics, and religion. I've always b...            2.570970  \n",
       "25  , I relate to this movie. I liked it so much t...            2.501301  \n",
       "26   importance of the ISIS and HTTP. It's a crazy...            1.921735  \n",
       "27   that this film was graded a great movie, whic...            1.704393  \n",
       "28   this movie in nightclubs. I have to say that ...            1.027381  \n",
       "29   to convince ms. This guy has a life there. I ...           -1.087284  \n",
       "30  , so I thought it was good. And it was very go...            2.696155  \n",
       "31  -writer, Bunjin will find a speedy, impressive...            1.819275  "
      ]
     },
     "execution_count": 48,
     "metadata": {},
     "output_type": "execute_result"
    }
   ],
   "source": [
    "#### get a batch from the dataset\n",
    "bs = 32\n",
    "game_data = dict()\n",
    "df_batch = df.sample(bs)\n",
    "query_list = df_batch['query'].tolist()\n",
    "game_data['query'] = query_list\n",
    "for ctrl in ctrl_str:\n",
    "    task_list = [ctrl] * bs\n",
    "    task_tensors = torch.stack([ctrl_tokens[t] for t in task_list])\n",
    "\n",
    "    query_tensors = torch.stack(df_batch['tokens'].tolist())\n",
    "    query_tensors = torch.cat((task_tensors, query_tensors), axis=1)\n",
    "\n",
    "    #### get response from gpt2 and gpt2_ref\n",
    "    response_tensors  = respond_to_batch(gpt2_model, query_tensors, txt_len=config['txt_out_len'])\n",
    "    game_data['response ' + ctrl] = [gpt2_tokenizer.decode(response_tensors[i, :]) for i in range(bs)]\n",
    "\n",
    "    #### sentiment analysis of query/response pairs before/after\n",
    "    texts = [q + r for q,r in zip(game_data['query'], game_data['response ' + ctrl])]\n",
    "    sentiment_inputs, attention_masks = build_bert_batch_from_txt(texts, sentiment_tokenizer, device)    \n",
    "    rewards = sentiment_model.forward(sentiment_inputs, attention_masks)[0][:, 1].detach()\n",
    "    game_data['rewards ' + ctrl] = pos_logit_to_reward(rewards, task_list).cpu().numpy()\n",
    "\n",
    "# store results in a dataframe\n",
    "df_results = pd.DataFrame(game_data)\n",
    "df_results"
   ]
  },
  {
   "cell_type": "markdown",
   "metadata": {},
   "source": [
    "The mean and median reward clearly reflect that the model performs well creating positive/negative continuations while performing worse on neutral sentiments."
   ]
  },
  {
   "cell_type": "code",
   "execution_count": 49,
   "metadata": {},
   "outputs": [
    {
     "name": "stdout",
     "output_type": "stream",
     "text": [
      "mean:\n"
     ]
    },
    {
     "name": "stderr",
     "output_type": "stream",
     "text": [
      "/tmp/ipykernel_8817/1253268971.py:2: FutureWarning: The default value of numeric_only in DataFrame.mean is deprecated. In a future version, it will default to False. In addition, specifying 'numeric_only=None' is deprecated. Select only valid columns or specify the value of numeric_only to silence this warning.\n",
      "  display(df_results.mean())\n"
     ]
    },
    {
     "data": {
      "text/plain": [
       "rewards [negative]    0.654782\n",
       "rewards [neutral]     1.583745\n",
       "rewards [positive]    1.512459\n",
       "dtype: float32"
      ]
     },
     "metadata": {},
     "output_type": "display_data"
    },
    {
     "name": "stdout",
     "output_type": "stream",
     "text": [
      "\n",
      "median:\n"
     ]
    },
    {
     "name": "stderr",
     "output_type": "stream",
     "text": [
      "/tmp/ipykernel_8817/1253268971.py:5: FutureWarning: The default value of numeric_only in DataFrame.median is deprecated. In a future version, it will default to False. In addition, specifying 'numeric_only=None' is deprecated. Select only valid columns or specify the value of numeric_only to silence this warning.\n",
      "  display(df_results.median())\n"
     ]
    },
    {
     "data": {
      "text/plain": [
       "rewards [negative]    0.766043\n",
       "rewards [neutral]     1.670244\n",
       "rewards [positive]    1.774114\n",
       "dtype: float32"
      ]
     },
     "metadata": {},
     "output_type": "display_data"
    }
   ],
   "source": [
    "print('mean:')\n",
    "display(df_results.mean())\n",
    "print()\n",
    "print('median:')\n",
    "display(df_results.median())"
   ]
  },
  {
   "cell_type": "code",
   "execution_count": null,
   "metadata": {},
   "outputs": [
    {
     "name": "stdout",
     "output_type": "stream",
     "text": [
      "mean:\n"
     ]
    },
    {
     "data": {
      "text/plain": [
       "rewards [negative]    2.074598\n",
       "rewards [neutral]    -0.054790\n",
       "rewards [positive]    2.893329\n",
       "dtype: float64"
      ]
     },
     "metadata": {},
     "output_type": "display_data"
    },
    {
     "name": "stdout",
     "output_type": "stream",
     "text": [
      "\n",
      "median:\n"
     ]
    },
    {
     "data": {
      "text/plain": [
       "rewards [negative]    2.853347\n",
       "rewards [neutral]     0.071524\n",
       "rewards [positive]    3.779774\n",
       "dtype: float64"
      ]
     },
     "metadata": {},
     "output_type": "display_data"
    }
   ],
   "source": [
    "print('mean:')\n",
    "display(df_results.mean())\n",
    "print()\n",
    "print('median:')\n",
    "display(df_results.median())"
   ]
  },
  {
   "cell_type": "markdown",
   "metadata": {},
   "source": [
    "### Controlled continuation"
   ]
  },
  {
   "cell_type": "code",
   "execution_count": 50,
   "metadata": {},
   "outputs": [
    {
     "data": {
      "text/plain": [
       "' is so bad that I do not pick it up after seeing this movie. We would even go in'"
      ]
     },
     "execution_count": 50,
     "metadata": {},
     "output_type": "execute_result"
    }
   ],
   "source": [
    "input_string = '[negative] The movie'\n",
    "input_tokens = gpt2_tokenizer.encode(input_string, return_tensors=\"pt\").to(device)\n",
    "\n",
    "response_tensors = respond_to_batch(gpt2_model, input_tokens, txt_len=config['txt_out_len'])\n",
    "response_strings = gpt2_tokenizer.decode(response_tensors[0, :])\n",
    "response_strings"
   ]
  },
  {
   "cell_type": "code",
   "execution_count": 51,
   "metadata": {},
   "outputs": [
    {
     "data": {
      "text/plain": [
       "' seemed to show us how cultural and worldly American multiplies are similar to American lives. The childhood consumed'"
      ]
     },
     "execution_count": 51,
     "metadata": {},
     "output_type": "execute_result"
    }
   ],
   "source": [
    "input_string = '[neutral] The movie'\n",
    "input_tokens = gpt2_tokenizer.encode(input_string, return_tensors=\"pt\").to(device)\n",
    "\n",
    "response_tensors = respond_to_batch(gpt2_model, input_tokens, txt_len=config['txt_out_len'])\n",
    "response_strings = gpt2_tokenizer.decode(response_tensors[0, :])\n",
    "response_strings"
   ]
  },
  {
   "cell_type": "code",
   "execution_count": 52,
   "metadata": {},
   "outputs": [
    {
     "data": {
      "text/plain": [
       "' is worth checking out, even if you are interested in escapist novelty.<|endoftext|> This is an entertaining'"
      ]
     },
     "execution_count": 52,
     "metadata": {},
     "output_type": "execute_result"
    }
   ],
   "source": [
    "input_string = '[positive] The movie'\n",
    "input_tokens = gpt2_tokenizer.encode(input_string, return_tensors=\"pt\").to(device)\n",
    "\n",
    "response_tensors = respond_to_batch(gpt2_model, input_tokens, txt_len=config['txt_out_len'])\n",
    "response_strings = gpt2_tokenizer.decode(response_tensors[0, :])\n",
    "response_strings"
   ]
  },
  {
   "cell_type": "markdown",
   "metadata": {},
   "source": [
    "### Mixed continuation"
   ]
  },
  {
   "cell_type": "code",
   "execution_count": 53,
   "metadata": {},
   "outputs": [
    {
     "data": {
      "text/plain": [
       "\" was terrible.personal not into it, for God's sake. But when you do a good job\""
      ]
     },
     "execution_count": 53,
     "metadata": {},
     "output_type": "execute_result"
    }
   ],
   "source": [
    "input_string = '[negative] The movie'\n",
    "input_tokens = gpt2_tokenizer.encode(input_string, return_tensors=\"pt\").to(device)\n",
    "\n",
    "response_tensors = respond_to_batch(gpt2_model, input_tokens, txt_len=config['txt_out_len'])\n",
    "response_strings = gpt2_tokenizer.decode(response_tensors[0, :])\n",
    "response_strings"
   ]
  },
  {
   "cell_type": "code",
   "execution_count": 54,
   "metadata": {},
   "outputs": [
    {
     "data": {
      "text/plain": [
       "' # of course no one knew what was going on when someone was up to the top of your own'"
      ]
     },
     "execution_count": 54,
     "metadata": {},
     "output_type": "execute_result"
    }
   ],
   "source": [
    "input_string = '[positive] The movie'\n",
    "input_string += \" didn't really have a focus at all. No need to make obvious movies.\"\n",
    "input_tokens = gpt2_tokenizer.encode(input_string, return_tensors=\"pt\").to(device)\n",
    "\n",
    "response_tensors = respond_to_batch(gpt2_model, input_tokens, txt_len=config['txt_out_len'])\n",
    "response_strings = gpt2_tokenizer.decode(response_tensors[0, :])\n",
    "response_strings"
   ]
  },
  {
   "cell_type": "markdown",
   "metadata": {},
   "source": [
    "## Save model\n",
    "Finally, we save the model to disk for later usage."
   ]
  },
  {
   "cell_type": "code",
   "execution_count": 55,
   "metadata": {},
   "outputs": [
    {
     "data": {
      "text/plain": [
       "('gpt2-imdb-ctrl/tokenizer_config.json',\n",
       " 'gpt2-imdb-ctrl/special_tokens_map.json',\n",
       " 'gpt2-imdb-ctrl/vocab.json',\n",
       " 'gpt2-imdb-ctrl/merges.txt',\n",
       " 'gpt2-imdb-ctrl/added_tokens.json')"
      ]
     },
     "execution_count": 55,
     "metadata": {},
     "output_type": "execute_result"
    }
   ],
   "source": [
    "#os.makedirs('gpt2-imdb-ctrl')\n",
    "gpt2_model.save_pretrained('gpt2-imdb-ctrl')\n",
    "gpt2_tokenizer.save_pretrained('gpt2-imdb-ctrl')"
   ]
  },
  {
   "cell_type": "code",
   "execution_count": null,
   "metadata": {},
   "outputs": [],
   "source": []
  }
 ],
 "metadata": {
  "kernelspec": {
   "display_name": "Python 3 (ipykernel)",
   "language": "python",
   "name": "python3"
  },
  "language_info": {
   "codemirror_mode": {
    "name": "ipython",
    "version": 3
   },
   "file_extension": ".py",
   "mimetype": "text/x-python",
   "name": "python",
   "nbconvert_exporter": "python",
   "pygments_lexer": "ipython3",
   "version": "3.10.8"
  },
  "vscode": {
   "interpreter": {
    "hash": "10b53c383190f8e803e29126eeed82fc207de5c3c3136a21e20ff73c9f050f4a"
   }
  }
 },
 "nbformat": 4,
 "nbformat_minor": 4
}
